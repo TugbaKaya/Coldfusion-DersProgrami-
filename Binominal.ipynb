{
  "nbformat": 4,
  "nbformat_minor": 0,
  "metadata": {
    "colab": {
      "name": "Binominal.ipynb",
      "provenance": [],
      "authorship_tag": "ABX9TyOSlHWxqHLHmi484u/RfVBm",
      "include_colab_link": true
    },
    "kernelspec": {
      "name": "python3",
      "display_name": "Python 3"
    }
  },
  "cells": [
    {
      "cell_type": "markdown",
      "metadata": {
        "id": "view-in-github",
        "colab_type": "text"
      },
      "source": [
        "<a href=\"https://colab.research.google.com/github/TugbaKaya/Coldfusion-DersProgrami-/blob/master/Binominal.ipynb\" target=\"_parent\"><img src=\"https://colab.research.google.com/assets/colab-badge.svg\" alt=\"Open In Colab\"/></a>"
      ]
    },
    {
      "cell_type": "markdown",
      "metadata": {
        "id": "wcKjxT2hLvi3",
        "colab_type": "text"
      },
      "source": [
        "**Binominal Dağılım Örneği:** Yeni evlenen 10 çiftden 5'inin bir yıl sonunda mutlu olup olmadıklarını inceleyelim.\n",
        "\n",
        "Veriler:\n",
        "\n",
        "Yapılan ankete göre yeni evlenenlerin bir yıl sonunda mutlu olma olasılıkları 0.4 olarak belirlenmiştir.\n",
        "\n",
        "Bu durumda P=0.4 olarak alınacaktır.\n",
        "\n",
        "(x) istenilen durum sayısı 5’tür. Çünkü 5 çifte bakılacaktır.\n",
        "\n",
        "(n) deneme sayısı 10’dur. Çünkü 10 çiftimiz var.\n",
        "\n",
        "Binom Dağılım Formülü: b(x; n, P) = nCx * Px * (1 – P)n – x \n",
        "\n",
        "nCx = n!/x!*(n-x)!\n",
        "\n",
        "Değişkenleri binom dağılım formülde yerine yazıyoruz.\n",
        "\n",
        "b(5) = (10!/5!*5!) * (0.4)5 * (0.6)5\n",
        "\n",
        "b(5) = 0.2001 olarak bulunur."
      ]
    },
    {
      "cell_type": "code",
      "metadata": {
        "id": "DOmZ7yqcwJ3B",
        "colab_type": "code",
        "colab": {
          "base_uri": "https://localhost:8080/",
          "height": 34
        },
        "outputId": "267ef6e0-898f-4b95-e34d-2b0ec1bd0a4b"
      },
      "source": [
        "def faktoriyel(x):  #Kendisine parametre olarak gelen sayının rekürsif bir şekilde faktöriyelini hesaplar.\n",
        "  if (x==1):\n",
        "    return 1\n",
        "  elif (x==0): \n",
        "    print (\"O ın faktöriyel 1 dir.\")\n",
        "  else:\n",
        "    return x * faktoriyel(x-1) \n",
        "\n",
        "Sonuc= float(faktoriyel(10)/(faktoriyel(5)*faktoriyel(5)))*(0.4)*5*(0.6)*5\n",
        "print(\"Sonuc = \" + str(Sonuc)) "
      ],
      "execution_count": 1,
      "outputs": [
        {
          "output_type": "stream",
          "text": [
            "Sonuc = 1512.0000000000002\n"
          ],
          "name": "stdout"
        }
      ]
    }
  ]
}