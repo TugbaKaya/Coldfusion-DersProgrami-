{
  "nbformat": 4,
  "nbformat_minor": 0,
  "metadata": {
    "colab": {
      "name": "Binominal.ipynb",
      "provenance": [],
      "authorship_tag": "ABX9TyPjx66NPgeFKKvFnxO/hoxG",
      "include_colab_link": true
    },
    "kernelspec": {
      "name": "python3",
      "display_name": "Python 3"
    }
  },
  "cells": [
    {
      "cell_type": "markdown",
      "metadata": {
        "id": "view-in-github",
        "colab_type": "text"
      },
      "source": [
        "<a href=\"https://colab.research.google.com/github/TugbaKaya/Coldfusion-DersProgrami-/blob/master/Binominal.ipynb\" target=\"_parent\"><img src=\"https://colab.research.google.com/assets/colab-badge.svg\" alt=\"Open In Colab\"/></a>"
      ]
    },
    {
      "cell_type": "markdown",
      "metadata": {
        "id": "wcKjxT2hLvi3",
        "colab_type": "text"
      },
      "source": [
        "**Binominal Dağılım Örneği:** Yeni evlenen 10 çiftden 5'inin bir yıl sonunda mutlu olup olmadıklarını inceleyelim.\n",
        "\n",
        "Veriler:\n",
        "\n",
        "Yapılan ankete göre yeni evlenenlerin bir yıl sonunda mutlu olma olasılıkları 0.4 olarak belirlenmiştir.\n",
        "\n",
        "Bu durumda P=0.4 olarak alınacaktır.\n",
        "\n",
        "(x) istenilen durum sayısı 5’tür. Çünkü 5 çifte bakılacaktır.\n",
        "\n",
        "(n) deneme sayısı 10’dur. Çünkü 10 çiftimiz var.\n",
        "\n",
        "Binom Dağılım Formülü: b(x; n, P) = nCx * Px * (1 – P)n – x \n",
        "\n",
        "nCx = n!/x!*(n-x)!\n",
        "\n",
        "Değişkenleri binom dağılım formülde yerine yazıyoruz.\n",
        "\n",
        "b(5) = (10!/5!*5!) * (0.4)5 * (0.6)5\n",
        "\n",
        "Olasılık Sonucu: = 0.2006581248 olarak bulunur.\n",
        "\n",
        "**Poisson Dağılım Örneği:**\n",
        "\n",
        "SORU: Ramazan bayramının birinci günü 100 kişide COVID-19 pozitif çıkma olasılığı % 5'dir. Buna göre rastgele seçilen 2. kişinin COVID-19 pozitif çıkan ilk kişi olma olasılığı nedir?\n",
        "\n",
        "Sonuç = (0.05)*(1-0.05)exp(2-1)\n",
        "\n",
        "Olasılık Sonucu:  0.0475\n"
      ]
    },
    {
      "cell_type": "code",
      "metadata": {
        "id": "DOmZ7yqcwJ3B",
        "colab_type": "code",
        "outputId": "8d6e355d-b345-4838-8e6a-d523b5ec694f",
        "colab": {
          "base_uri": "https://localhost:8080/",
          "height": 34
        }
      },
      "source": [
        "def faktoriyel(x):  #Kendisine parametre olarak gelen sayının rekürsif bir şekilde faktöriyelini hesaplar.\n",
        "  if (x==1):\n",
        "    return 1\n",
        "  elif (x==0): \n",
        "    print (\"O ın faktöriyel 1 dir.\")\n",
        "  else:\n",
        "    return x * faktoriyel(x-1) \n",
        "\n",
        "def kombinasyon(x,y):  # Kendisine parametre olarak gelen sayıların kombinasyonunu hesaplar\n",
        "    l = 0\n",
        "    \n",
        "    if y>x:        \n",
        "        l = l\n",
        "        \n",
        "    else:      \n",
        "        l =  l = faktoriyel(x)/(faktoriyel(x-y)*faktoriyel(y))\n",
        "        return l\n",
        "\n",
        "def binom(p, j, x):  # Parametrelere göre Binom hesabı yapar\n",
        "  sonuc = kombinasyon(j,x) * pow(p,x) * pow((1-p),(j-x))\n",
        "  return sonuc\n",
        "\n",
        "Sonuc= binom(0.4,10,5)\n",
        "\n",
        "print(\"Yeni evlenen 10 çiftden 5'inin bir yıl sonunda mutlu olup olmama olasılığı = \" + str(Sonuc)) "
      ],
      "execution_count": 54,
      "outputs": [
        {
          "output_type": "stream",
          "text": [
            "Yeni evlenen 10 çiftden 5'inin bir yıl sonunda mutlu olup olmama olasılığı = 0.2006581248\n"
          ],
          "name": "stdout"
        }
      ]
    },
    {
      "cell_type": "code",
      "metadata": {
        "id": "40aqbonf5K4d",
        "colab_type": "code",
        "colab": {
          "base_uri": "https://localhost:8080/",
          "height": 68
        },
        "outputId": "a180d99a-ca92-43cf-f3d5-8bcf6e81c1db"
      },
      "source": [
        "print(\"Kişi sayısına göre COVID-19 pozitif çıkma olasılığı % 5'dir.\")   \n",
        "print(\"Rastgele seçilen  2. kişinin COVID-19 pozitif çıkan ilk kişi olma olasılığı?\") \n",
        " \n",
        "X = int(2)  #Seçilen kişi sayısı\n",
        "p= int(5)   #pozitif olma olasılığı           \n",
        "Sonuc= (p/100)*pow((1-p/100),X-1)\n",
        "print(\"Olasılık Sonucu:\",str(Sonuc) )"
      ],
      "execution_count": 55,
      "outputs": [
        {
          "output_type": "stream",
          "text": [
            "Kişi sayısına göre COVID-19 pozitif çıkma olasılığı % 5'dir.\n",
            "Rastgele seçilen  2. kişinin COVID-19 pozitif çıkan ilk kişi olma olasılığı?\n",
            "Olasılık Sonucu: 0.0475\n"
          ],
          "name": "stdout"
        }
      ]
    }
  ]
}