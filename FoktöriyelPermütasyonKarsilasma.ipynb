{
  "nbformat": 4,
  "nbformat_minor": 0,
  "metadata": {
    "colab": {
      "name": "FoktöriyelPermütasyonKarsilasma.ipynb",
      "provenance": [],
      "collapsed_sections": [],
      "authorship_tag": "ABX9TyPM9HkJpGa7s+LYJ7ecCuzr",
      "include_colab_link": true
    },
    "kernelspec": {
      "name": "python3",
      "display_name": "Python 3"
    },
    "accelerator": "GPU"
  },
  "cells": [
    {
      "cell_type": "markdown",
      "metadata": {
        "id": "view-in-github",
        "colab_type": "text"
      },
      "source": [
        "<a href=\"https://colab.research.google.com/github/TugbaKaya/Coldfusion-DersProgrami-/blob/master/Fokt%C3%B6riyelPerm%C3%BCtasyonKarsilasma.ipynb\" target=\"_parent\"><img src=\"https://colab.research.google.com/assets/colab-badge.svg\" alt=\"Open In Colab\"/></a>"
      ]
    },
    {
      "cell_type": "code",
      "metadata": {
        "id": "xrugHtlt7uf8",
        "colab_type": "code",
        "colab": {}
      },
      "source": [
        ""
      ],
      "execution_count": 0,
      "outputs": []
    },
    {
      "cell_type": "markdown",
      "metadata": {
        "id": "nH_eh2BfqeY8",
        "colab_type": "text"
      },
      "source": [
        "**SORU**: Umuttepe yerleşkesinde gezerken karşılaştığımız kişinin arkadaşımız olma olasılığı?\n",
        "\n",
        "Nufustaki her kişi ile karşılaşma eşit derecede olasıdır.\n",
        "\n",
        "p(Toplam Nufus)=60\n",
        "\n",
        "s(Karşılaşılan Kişi sayısı)=10\n",
        "\n",
        "f(Arkadaş Sayısı)=5\n",
        "\n",
        "**ÇÖZÜM**\n",
        "\n",
        "A(Olay Uzayı)=(Tüm durum) - (İstenmeyen durum) \n",
        "             =1-(Hiç arkadaşla karşılaşmama durumu)\n",
        "             =1-C(60-5,10)\n",
        "\n",
        "B(Örnek Uzayı)=C(60,10)\n",
        "\n",
        "Olasılık Sonucu = P(A)/P(B)\n",
        "\n",
        "**AÇIKLAMA**\n",
        "\n",
        "60000 kişinin bulunduğu bir yerde karşılaştığımız kişinin arkadaşımız olma durumunu hesaplarken, örnek uzayımız 60 kişisen 10 kişinin seçimi olacaktır.\n",
        "\n",
        "İstenen durum karşılaştığımız kişinin arkadaşımız olma olasılığıdır. Burada bazen 1 arkadaş bazen 2, bazen daha farklı sayıda arkadaşımız ile karşılaşabiliriz. Bu şekilde çok fazla ihtimal olduğu için tüm durumdan (1), istenmeyen durumu (hiç arkadaşımla karşılaşmama) çıkararak olay uzayımı oluşturabilirim.\n",
        "\n",
        "Yapmamız gereken 60 kişiden 5 kişiyi çıkarmak ve çıkan sonuçtan 10 kişi seçmektir.\n",
        "\n",
        "Son olarak tüm olasılığı 1'den çıkardığımızda sonuca ulaşırız."
      ]
    },
    {
      "cell_type": "code",
      "metadata": {
        "id": "A_k_pbiUvoEx",
        "colab_type": "code",
        "outputId": "67df78c6-3902-4e71-d64d-5e62d9ab387f",
        "colab": {
          "base_uri": "https://localhost:8080/",
          "height": 85
        }
      },
      "source": [
        "def faktoriyel(x):  #Kendisine parametre olarak gelen sayının rekürsif bir şekilde faktöriyelini hesaplar.\n",
        "  if (x==1):\n",
        "    return 1\n",
        "  elif (x==0): \n",
        "    print (\"O ın faktöriyel 1 dir.\")\n",
        "  else:\n",
        "    return x * faktoriyel(x-1) \n",
        "\n",
        "olayuzay= float(faktoriyel(55)/(faktoriyel(45)*faktoriyel(10))) #Olay Uzay; istenmeyen durum, hiç arkadaşla karşılaşmama durumu.\n",
        "print(\"olayuzay = \" + str(olayuzay))\n",
        "ornekuzay= float(faktoriyel(60)/(faktoriyel(50)*faktoriyel(10))) #Örnek Uzay, 60000 kişiden herhangi 100 kişi ile karşılaşma durumu.\n",
        "print(\"ornekuzay = \" + str(ornekuzay)) \n",
        "Sonuc= 1-float(olayuzay/ornekuzay) #İstenmeyen durum Örnek Uzaya bölünür ve 1'den çıkarılarak ile olasılık sonucu hesaplanır.\n",
        "\n",
        "print(\"\\nOlasılık Sonucu: P(A)/P(B)= \",str(Sonuc))"
      ],
      "execution_count": 1,
      "outputs": [
        {
          "output_type": "stream",
          "text": [
            "olayuzay = 29248649430.0\n",
            "ornekuzay = 75394027566.0\n",
            "\n",
            "Olasılık Sonucu: P(A)/P(B)=  0.6120561485537339\n"
          ],
          "name": "stdout"
        }
      ]
    },
    {
      "cell_type": "markdown",
      "metadata": {
        "id": "usYLEZHxWV3y",
        "colab_type": "text"
      },
      "source": [
        "**Permütasyon ve Faktoriyel Hesabı**\n",
        "\n",
        "Burada 2 tane fonksiyonumuz yer almaktadır.\n",
        "\n",
        "İlk fonksiyon faktoriyel hesabı yapmaktadır. İkinci fonksiyon ise permütasyon hesabı yapmaktadır. \n",
        "\n",
        "İkinci fonksiyon permüstasyon hesabı yaparken faktoriyel fonksiyonunu kullanmaktadır.\n",
        "\n",
        "Foktoriyel hesabı yapan fonksiyona 12 sayısını gönderiyoruz.\n",
        "\n",
        "Permüstasyon hesabı yapan fonksiyona da P(5,2) değerini gönderiyoruz.\n"
      ]
    },
    {
      "cell_type": "code",
      "metadata": {
        "id": "8MpzrUxOWboG",
        "colab_type": "code",
        "outputId": "508bb314-17e3-47bf-87a7-e475316945b9",
        "colab": {
          "base_uri": "https://localhost:8080/",
          "height": 51
        }
      },
      "source": [
        "def factorial(f):\n",
        "\n",
        "    result = 1 \n",
        "\n",
        "    if f < 0: \n",
        "\n",
        "        print (\"Negatif sayılar için faktöriyel bulunmaz.\")\n",
        "\n",
        "    elif f == 0: \n",
        "\n",
        "        print (\"O ın faktöriyel 1 dir.\")\n",
        "\n",
        "    else:\n",
        "\n",
        "        for i in range(1,f + 1): \n",
        "\n",
        "            result = result*i \n",
        "\n",
        "    return result\n",
        "\n",
        "print (factorial(12))\n",
        "\n",
        "def permutation(x,y):    \n",
        "\n",
        "    resultp = 0\n",
        "\n",
        "    if (y>x):\n",
        "\n",
        "        resultp = resultp\n",
        "\n",
        "    else:\n",
        "\n",
        "        resultp = factorial(x)/factorial(x-y)\n",
        "\n",
        "    return resultp\n",
        "    \n",
        "print (permutation(5,2))"
      ],
      "execution_count": 0,
      "outputs": [
        {
          "output_type": "stream",
          "text": [
            "479001600\n",
            "20.0\n"
          ],
          "name": "stdout"
        }
      ]
    }
  ]
}