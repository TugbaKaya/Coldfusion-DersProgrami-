{
  "nbformat": 4,
  "nbformat_minor": 0,
  "metadata": {
    "colab": {
      "name": "Bayes Teoremi.ipynb",
      "provenance": [],
      "collapsed_sections": [],
      "authorship_tag": "ABX9TyNdchTo1LWOlNoo1AdPQDYa",
      "include_colab_link": true
    },
    "kernelspec": {
      "name": "python3",
      "display_name": "Python 3"
    }
  },
  "cells": [
    {
      "cell_type": "markdown",
      "metadata": {
        "id": "view-in-github",
        "colab_type": "text"
      },
      "source": [
        "<a href=\"https://colab.research.google.com/github/TugbaKaya/Coldfusion-DersProgrami-/blob/master/Bayes_Teoremi.ipynb\" target=\"_parent\"><img src=\"https://colab.research.google.com/assets/colab-badge.svg\" alt=\"Open In Colab\"/></a>"
      ]
    },
    {
      "cell_type": "code",
      "metadata": {
        "id": "Bo53QKrTmE-l",
        "colab_type": "code",
        "colab": {}
      },
      "source": [
        ""
      ],
      "execution_count": 0,
      "outputs": []
    },
    {
      "cell_type": "markdown",
      "metadata": {
        "id": "cGAWG1XtmFrP",
        "colab_type": "text"
      },
      "source": [
        "**BAYES TEOREMİ**\n",
        "\n",
        "SORU =  Bir alışveriş merkezine 2 ayrı markadan ayakkabı gelmektedir. Şu zamana kadar edinilen kayıtlardan bu sonuçlara varılmıştır. \n",
        "\n",
        "Gelen Markalar = Adidas, Nike\n",
        "\n",
        "Aylık alınan ayakkabı = Adidas = 100 çift, Nıke = 100 çift\n",
        "\n",
        "Defolu ayakkabı oranı = 0.05\n",
        "\n",
        "Bir ay içinde Adidas markasından gelen bir çift ayakkabının defolu olma olasılığı kaçtır?\n",
        "\n",
        "ÇÖZÜM = Toplam 200 çift ayakkabı gelmektedir. Gelen ayakkabıların 100 çifti Adidas markadır. \n",
        "\n",
        "Aylık defolu gelen ayakkabı çifti sayısı = 200*0.05 = 10\n",
        "\n",
        "Defolu olanların markalara eşit dağıldığını kabul edersek 5 çift ayakkabı adidas markadan defolu olarak gelmektedir.\n",
        "\n",
        "P(Olasılık Sonucu) = P(Adidas defolu ayakkabı)/P(Adidas ayakkabı)\n",
        "\n",
        "Olasılık Sonucu = 5/100 = 1/20"
      ]
    },
    {
      "cell_type": "code",
      "metadata": {
        "id": "WTr19TI2r_1N",
        "colab_type": "code",
        "colab": {
          "base_uri": "https://localhost:8080/",
          "height": 34
        },
        "outputId": "3bcd2455-10e1-4b84-90ac-fcfff45d6f52"
      },
      "source": [
        "def Olasilik(x,y):  #Kendisine parametre olarak gelen sayıların olasılık durumunu hesaplar.\n",
        "  if (y==0):\n",
        "    return 0\n",
        "  elif (y==1): \n",
        "    return x\n",
        "  else:\n",
        "    return x/y \n",
        "\n",
        "Sonuc=float(Olasilik(5,100))\n",
        "print(\"Olasılık Sonucu = \" +str(Sonuc))"
      ],
      "execution_count": 1,
      "outputs": [
        {
          "output_type": "stream",
          "text": [
            "Olasılık Sonucu = 0.05\n"
          ],
          "name": "stdout"
        }
      ]
    }
  ]
}