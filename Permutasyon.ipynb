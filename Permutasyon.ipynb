{
  "nbformat": 4,
  "nbformat_minor": 0,
  "metadata": {
    "colab": {
      "name": "Permutasyon.ipynb",
      "provenance": [],
      "authorship_tag": "ABX9TyMhs51GUNh/8dR2Mld2jJqS",
      "include_colab_link": true
    },
    "kernelspec": {
      "name": "python3",
      "display_name": "Python 3"
    }
  },
  "cells": [
    {
      "cell_type": "markdown",
      "metadata": {
        "id": "view-in-github",
        "colab_type": "text"
      },
      "source": [
        "<a href=\"https://colab.research.google.com/github/TugbaKaya/Coldfusion-DersProgrami-/blob/master/Permutasyon.ipynb\" target=\"_parent\"><img src=\"https://colab.research.google.com/assets/colab-badge.svg\" alt=\"Open In Colab\"/></a>"
      ]
    },
    {
      "cell_type": "code",
      "metadata": {
        "id": "sA6JuZQAmQnm",
        "colab_type": "code",
        "colab": {}
      },
      "source": [
        "def factorial(f):\n",
        "\n",
        "    result = 1 \n",
        "\n",
        "    if f < 0: \n",
        "\n",
        "        print (\"Negatif sayılar için faktöriyel bulunmaz.\")\n",
        "\n",
        "    elif f == 0: \n",
        "\n",
        "        print (\"O ın faktöriyel 1 dir.\")\n",
        "\n",
        "    else:\n",
        "\n",
        "        for i in range(1,f + 1): \n",
        "\n",
        "            result = result*i \n",
        "\n",
        "    return result\n",
        "\n",
        "    print (factorial(12))\n",
        "\n",
        "def permutation(x,y):    \n",
        "\n",
        "    resultp = 0\n",
        "\n",
        "    if (y>x):\n",
        "\n",
        "        resultp = resultp\n",
        "\n",
        "    else:\n",
        "\n",
        "        resultp = factorial(x)/factorial(x-y)\n",
        "\n",
        "    return resultp\n",
        "    \n",
        "    print (permutation(x,y))"
      ],
      "execution_count": 0,
      "outputs": []
    }
  ]
}