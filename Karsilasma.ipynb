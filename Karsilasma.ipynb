{
  "nbformat": 4,
  "nbformat_minor": 0,
  "metadata": {
    "colab": {
      "name": "Karsilasma.ipynb",
      "provenance": [],
      "authorship_tag": "ABX9TyM07KTuOEG/+t7JnFAgQ6/p",
      "include_colab_link": true
    },
    "kernelspec": {
      "name": "python3",
      "display_name": "Python 3"
    }
  },
  "cells": [
    {
      "cell_type": "markdown",
      "metadata": {
        "id": "view-in-github",
        "colab_type": "text"
      },
      "source": [
        "<a href=\"https://colab.research.google.com/github/TugbaKaya/Coldfusion-DersProgrami-/blob/master/Karsilasma.ipynb\" target=\"_parent\"><img src=\"https://colab.research.google.com/assets/colab-badge.svg\" alt=\"Open In Colab\"/></a>"
      ]
    },
    {
      "cell_type": "code",
      "metadata": {
        "id": "qKRhtsWmadqs",
        "colab_type": "code",
        "colab": {}
      },
      "source": [
        ""
      ],
      "execution_count": 0,
      "outputs": []
    },
    {
      "cell_type": "markdown",
      "metadata": {
        "id": "7VbknWCmancz",
        "colab_type": "text"
      },
      "source": [
        "**SORU**: Umuttepe yerleşkesinde gezerken karşılaştığımız kişinin arkadaşımız olma olasılığı?\n",
        "\n",
        "Nufustaki her kişi ile karşılaşma eşit derecede olasıdır.\n",
        "\n",
        "p(Toplam Nufus)=60\n",
        "\n",
        "s(Karşılaşılan Kişi sayısı)=10\n",
        "\n",
        "f(Arkadaş Sayısı)=5\n",
        "\n",
        "**ÇÖZÜM**\n",
        "\n",
        "A(Olay Uzayı)=(Tüm durum) - (İstenmeyen durum) \n",
        "             =1-(Hiç arkadaşla karşılaşmama durumu)\n",
        "             =1-C(60-5,10)\n",
        "\n",
        "B(Örnek Uzayı)=C(60,10)\n",
        "\n",
        "Olasılık Sonucu = P(A)/P(B)\n",
        "\n",
        "**AÇIKLAMA**\n",
        "\n",
        "60000 kişinin bulunduğu bir yerde karşılaştığımız kişinin arkadaşımız olma durumunu hesaplarken, örnek uzayımız 60 kişisen 10 kişinin seçimi olacaktır.\n",
        "\n",
        "İstenen durum karşılaştığımız kişinin arkadaşımız olma olasılığıdır. Burada bazen 1 arkadaş bazen 2, bazen daha farklı sayıda arkadaşımız ile karşılaşabiliriz. Bu şekilde çok fazla ihtimal olduğu için tüm durumdan (1), istenmeyen durumu (hiç arkadaşımla karşılaşmama) çıkararak olay uzayımı oluşturabilirim.\n",
        "\n",
        "Yapmamız gereken 60 kişiden 5 kişiyi çıkarmak ve çıkan sonuçtan 10 kişi seçmektir.\n",
        "\n",
        "Son olarak tüm olasılığı 1'den çıkardığımızda sonuca ulaşırız.\n"
      ]
    },
    {
      "cell_type": "code",
      "metadata": {
        "id": "oDLH5FwEapCP",
        "colab_type": "code",
        "colab": {
          "base_uri": "https://localhost:8080/",
          "height": 85
        },
        "outputId": "33edf6d7-49df-4e3f-ac47-b7634e1366af"
      },
      "source": [
        "def faktoriyel(x):  #Kendisine parametre olarak gelen sayının rekürsif bir şekilde faktöriyelini hesaplar.\n",
        "  if(x==1):\n",
        "    return 1\n",
        "  else:\n",
        "    return x * faktoriyel(x-1) \n",
        "\n",
        "olayuzay= float(faktoriyel(55)/(faktoriyel(45)*faktoriyel(10))) #Olay Uzay; istenmeyen durum, hiç arkadaşla karşılaşmama durumu.\n",
        "print(\"olayuzay = \" + str(olayuzay))\n",
        "ornekuzay= float(faktoriyel(60)/(faktoriyel(50)*faktoriyel(10))) #Örnek Uzay, 60000 kişiden herhangi 100 kişi ile karşılaşma durumu.\n",
        "print(\"ornekuzay = \" + str(ornekuzay)) \n",
        "Sonuc= 1-float(olayuzay/ornekuzay) #İstenmeyen durum Örnek Uzaya bölünür ve 1'den çıkarılarak ile olasılık sonucu hesaplanır.\n",
        "\n",
        "print(\"\\nOlasılık Sonucu: P(A)/P(B)= \",str(Sonuc))"
      ],
      "execution_count": 1,
      "outputs": [
        {
          "output_type": "stream",
          "text": [
            "olayuzay = 29248649430.0\n",
            "ornekuzay = 75394027566.0\n",
            "\n",
            "Olasılık Sonucu: P(A)/P(B)=  0.6120561485537339\n"
          ],
          "name": "stdout"
        }
      ]
    }
  ]
}