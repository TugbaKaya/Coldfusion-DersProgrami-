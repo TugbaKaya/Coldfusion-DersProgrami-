{
  "nbformat": 4,
  "nbformat_minor": 0,
  "metadata": {
    "colab": {
      "name": "KosulluOlasilik.ipynb",
      "provenance": [],
      "collapsed_sections": [],
      "authorship_tag": "ABX9TyOwlVbAHSnlzw1lj9B7rfXN",
      "include_colab_link": true
    },
    "kernelspec": {
      "name": "python3",
      "display_name": "Python 3"
    }
  },
  "cells": [
    {
      "cell_type": "markdown",
      "metadata": {
        "id": "view-in-github",
        "colab_type": "text"
      },
      "source": [
        "<a href=\"https://colab.research.google.com/github/TugbaKaya/Coldfusion-DersProgrami-/blob/master/KosulluOlasilik.ipynb\" target=\"_parent\"><img src=\"https://colab.research.google.com/assets/colab-badge.svg\" alt=\"Open In Colab\"/></a>"
      ]
    },
    {
      "cell_type": "code",
      "metadata": {
        "id": "lwsJa9S2TznR",
        "colab_type": "code",
        "colab": {}
      },
      "source": [
        ""
      ],
      "execution_count": 0,
      "outputs": []
    },
    {
      "cell_type": "markdown",
      "metadata": {
        "id": "dI33ZzEtT1Lq",
        "colab_type": "text"
      },
      "source": [
        "**KOŞULLU OLASILIK**\n",
        "\n",
        "**SORU:** İki basamaklı doğal sayılar kartlara yazılıp bir torbaya atılıyor.\n",
        "Torbadan rastgele seçilen bir kartın üstündeki sayının 70 ten büyük olduğu bilindiğine göre, seçilen bu\n",
        "kartın üstündeki sayının 5 ile tam bölünebilme olasılığı kaçtır?\n",
        "\n",
        "**ÇÖZÜM:**\n",
        "\n",
        "Örnek Uzay = {10,11,12,13,14....97,98,99}\n",
        "\n",
        "Koşul = {71,72,73,74,......98,99}\n",
        "\n",
        "İstenen Durum = {75,80,85,90,95}\n",
        "\n",
        "Torbadan çekilen kartın üzerindeki sayının 70'den büyük olduğu bilindiğine göre örnek uzay yukarıda Koşul ise tanımlanan sayılar olur.\n",
        "\n",
        " Örnek Uzay = {71,72,73.....98,99}\n",
        "\n",
        " Çekilen kartın üzerindeki sayının 5 ile tam bölünmesi istenmektedir. Bir sayının 5 ile bölünebilmesi için o sayının son rakamının 5 ya da 0 olması gerekmektedir.\n",
        "\n",
        " Olay Uzay = {75,80,85,90,95}\n",
        "\n",
        " Olasılık Değeri = Olay Uzay/Örnek Uzay = {75,80,85,90,95}/{71,72,73,74,....98,99} = 5/29\n"
      ]
    },
    {
      "cell_type": "code",
      "metadata": {
        "id": "BxCJOAUGXMl_",
        "colab_type": "code",
        "colab": {
          "base_uri": "https://localhost:8080/",
          "height": 34
        },
        "outputId": "362b7550-39fc-4b39-c55b-4392fb7269ff"
      },
      "source": [
        "def Olasilik(x,y):  #Kendisine parametre olarak gelen sayıların olasılık durumunu hesaplar.\n",
        "  if (y==0):\n",
        "    return 0\n",
        "  elif (y==1): \n",
        "    return x\n",
        "  else:\n",
        "    return x/y \n",
        "\n",
        "Sonuc=float(Olasilik(5,29))\n",
        "print(\"Olasılık Sonucu = \" +str(Sonuc)) \n"
      ],
      "execution_count": 3,
      "outputs": [
        {
          "output_type": "stream",
          "text": [
            "Olasılık Sonucu = 0.1724137931034483\n"
          ],
          "name": "stdout"
        }
      ]
    }
  ]
}